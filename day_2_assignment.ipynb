{
  "nbformat": 4,
  "nbformat_minor": 0,
  "metadata": {
    "colab": {
      "provenance": []
    },
    "kernelspec": {
      "name": "python3",
      "display_name": "Python 3"
    },
    "language_info": {
      "name": "python"
    }
  },
  "cells": [
    {
      "cell_type": "code",
      "execution_count": 1,
      "metadata": {
        "colab": {
          "base_uri": "https://localhost:8080/"
        },
        "id": "7WKf_0Y-mJbB",
        "outputId": "a6cf49ae-be91-4ce3-c405-f25003d29f0c"
      },
      "outputs": [
        {
          "output_type": "stream",
          "name": "stdout",
          "text": [
            "   Visitor_ID                        Name   Age  Ticket_Price Check_In_Time  \\\n",
            "0       V1000       ABHISHEK SANDEEP ZADE  25.0         500.0      10:00 AM   \n",
            "1       V1001        ARNAV AJAY DESHPANDE  23.0         750.0      10:30 AM   \n",
            "2       V1002  ASHWINI LALCHAND MUNDAWARE  22.0         500.0      11:00 AM   \n",
            "3       V1003      GAYATRI SURESH GAIKWAD   NaN        1000.0      11:30 AM   \n",
            "4       V1004   HARSHADA GANESH CHAUDHARI  21.0           NaN           NaN   \n",
            "5       V1005    VAIBHAVI HARISHWAR PATIL  25.0         500.0      10:00 AM   \n",
            "6       V1006                         NaN  24.0         700.0      12:00 PM   \n",
            "7       V1007     VISHAKHA PUNDLIK JADHAV  24.0         650.0      12:30 PM   \n",
            "8       V1008         YASH BHARAT SOLUNKE  28.0         750.0      01:00 PM   \n",
            "9       V1009       VIVEK SANTOSH KHANDWE   NaN        1000.0      01:30 PM   \n",
            "10      V1010     VISHAKHA PUNDLIK JADHAV  22.0         500.0      11:00 AM   \n",
            "11      V1011          Tanushree Chhanwal  23.0         800.0      02:00 PM   \n",
            "12      V1012              Shruti Jaiswal  25.0           NaN           NaN   \n",
            "13      V1013            Shriyash Sulakhe  27.0         750.0      02:30 PM   \n",
            "14      V1014         YASH BHARAT SOLUNKE  25.0         500.0      10:00 AM   \n",
            "15      V1015                         NaN  30.0         700.0      12:00 PM   \n",
            "16      V1016        ARNAV AJAY DESHPANDE  31.0         900.0      03:00 PM   \n",
            "17      V1017        RUTUJA SANTOSH THOTE  26.0         850.0      03:30 PM   \n",
            "18      V1018          ROHIT DILIP BILWAL  19.0         750.0      04:00 PM   \n",
            "19      V1019      RITESH SHIVAJI BAIRAGI  19.0           NaN           NaN   \n",
            "\n",
            "          City           State  \n",
            "0        Delhi           Delhi  \n",
            "1   Aurangabad     Maharashtra  \n",
            "2       Mumbai     Maharashtra  \n",
            "3       Mumbai     Maharashtra  \n",
            "4    New Delhi           Delhi  \n",
            "5    New Delhi           Delhi  \n",
            "6      Chennai      Tamil Nadu  \n",
            "7      Chennai      Tamil Nadu  \n",
            "8      Chennai      Tamil Nadu  \n",
            "9    Bangalore       Karnataka  \n",
            "10       Delhi           Delhi  \n",
            "11        Pune     Maharashtra  \n",
            "12   New Delhi           Delhi  \n",
            "13      Mumbai     Maharashtra  \n",
            "14   New Delhi           Delhi  \n",
            "15   New Delhi           Delhi  \n",
            "16      Indore  Madhya Pradesh  \n",
            "17   Bangalore       Karnataka  \n",
            "18      Ujjain  Madhya Pradesh  \n",
            "19   Bangalore       Karnataka  \n"
          ]
        }
      ],
      "source": [
        "import pandas as pd\n",
        "import numpy as np\n",
        "\n",
        "data = {\n",
        "    'Visitor_ID': [f'V{1000 + i}' for i in range(20)],\n",
        "    'Name': ['ABHISHEK SANDEEP ZADE', 'ARNAV AJAY DESHPANDE', 'ASHWINI LALCHAND MUNDAWARE',\n",
        "             'GAYATRI SURESH GAIKWAD', 'HARSHADA GANESH CHAUDHARI', 'VAIBHAVI HARISHWAR PATIL',\n",
        "             np.nan, 'VISHAKHA PUNDLIK JADHAV', 'YASH BHARAT SOLUNKE', 'VIVEK SANTOSH KHANDWE',\n",
        "             'VISHAKHA PUNDLIK JADHAV', 'Tanushree Chhanwal', 'Shruti Jaiswal', 'Shriyash Sulakhe',\n",
        "             'YASH BHARAT SOLUNKE', np.nan, 'ARNAV AJAY DESHPANDE', 'RUTUJA SANTOSH THOTE',\n",
        "             'ROHIT DILIP BILWAL', 'RITESH SHIVAJI BAIRAGI'],\n",
        "    'Age': [25, 23, 22, np.nan, 21, 25, 24, 24, 28, np.nan, 22, 23, 25, 27, 25, 30, 31, 26, 19, 19],\n",
        "    'Ticket_Price': [500, 750, 500, 1000, np.nan, 500, 700, 650, 750, 1000, 500, 800, np.nan, 750, 500, 700, 900, 850, 750, np.nan],\n",
        "    'Check_In_Time': ['10:00 AM', '10:30 AM', '11:00 AM', '11:30 AM', np.nan, '10:00 AM', '12:00 PM', '12:30 PM',\n",
        "                      '01:00 PM', '01:30 PM', '11:00 AM', '02:00 PM', np.nan, '02:30 PM', '10:00 AM', '12:00 PM',\n",
        "                      '03:00 PM', '03:30 PM', '04:00 PM', np.nan],\n",
        "    'City': ['Delhi', 'Aurangabad', 'Mumbai', 'Mumbai', 'New Delhi', 'New Delhi', 'Chennai', 'Chennai', 'Chennai',\n",
        "             'Bangalore', 'Delhi', 'Pune', 'New Delhi', 'Mumbai', 'New Delhi', 'New Delhi', 'Indore', 'Bangalore',\n",
        "             'Ujjain', 'Bangalore'],\n",
        "    'State': ['Delhi', 'Maharashtra', 'Maharashtra', 'Maharashtra', 'Delhi', 'Delhi', 'Tamil Nadu', 'Tamil Nadu',\n",
        "              'Tamil Nadu', 'Karnataka', 'Delhi', 'Maharashtra', 'Delhi', 'Maharashtra', 'Delhi', 'Delhi',\n",
        "              'Madhya Pradesh', 'Karnataka', 'Madhya Pradesh', 'Karnataka']\n",
        "}\n",
        "\n",
        "kumbhmela = pd.DataFrame(data)\n",
        "\n",
        "print(kumbhmela)"
      ]
    },
    {
      "cell_type": "code",
      "source": [
        "import pandas as pd\n",
        "import numpy as np\n",
        "\n",
        "\n",
        "data = {\n",
        "    'Visitor_ID': [f'V{1000 + i}' for i in range(20)],\n",
        "    'Name': [\n",
        "        'ABHISHEK SANDEEP ZADE', 'ARNAV AJAY DESHPANDE', 'ASHWINI LALCHAND MUNDAWARE',\n",
        "        'GAYATRI SURESH GAIKWAD', 'HARSHADA GANESH CHAUDHARI', 'VAIBHAVI HARISHWAR PATIL',\n",
        "        np.nan, 'VISHAKHA PUNDLIK JADHAV', 'YASH BHARAT SOLUNKE', 'VIVEK SANTOSH KHANDWE',\n",
        "        'VISHAKHA PUNDLIK JADHAV', 'Tanushree Chhanwal', 'Shruti Jaiswal', 'Shriyash Sulakhe',\n",
        "        'YASH BHARAT SOLUNKE', np.nan, 'ARNAV AJAY DESHPANDE', 'RUTUJA SANTOSH THOTE',\n",
        "        'ROHIT DILIP BILWAL', 'RITESH SHIVAJI BAIRAGI'\n",
        "    ],\n",
        "    'Age': [25, 23, 22, np.nan, 21, 25, 24, 24, 28, np.nan, 22, 23, 25, 27, 25, 30, 31, 26, 19, 19],\n",
        "    'Ticket_Price': [500, 750, 500, 1000, np.nan, 500, 700, 650, 750, 1000, 500, 800, np.nan, 750, 500, 700, 900, 850, 750, np.nan],\n",
        "    'Check_In_Time': ['10:00 AM', '10:30 AM', '11:00 AM', '11:30 AM', np.nan, '10:00 AM', '12:00 PM', '12:30 PM',\n",
        "                      '01:00 PM', '01:30 PM', '11:00 AM', '02:00 PM', np.nan, '02:30 PM', '10:00 AM', '12:00 PM',\n",
        "                      '03:00 PM', '03:30 PM', '04:00 PM', np.nan],\n",
        "    'City': ['Delhi', 'Aurangabad', 'Mumbai', 'Mumbai', 'New Delhi', 'New Delhi', 'Chennai', 'Chennai', 'Chennai',\n",
        "             'Bangalore', 'Delhi', 'Pune', 'New Delhi', 'Mumbai', 'New Delhi', 'New Delhi', 'Indore', 'Bangalore',\n",
        "             'Ujjain', 'Bangalore'],\n",
        "    'State': ['Delhi', 'Maharashtra', 'Maharashtra', 'Maharashtra', 'Delhi', 'Delhi', 'Tamil Nadu', 'Tamil Nadu',\n",
        "              'Tamil Nadu', 'Karnataka', 'Delhi', 'Maharashtra', 'Delhi', 'Maharashtra', 'Delhi', 'Delhi',\n",
        "              'Madhya Pradesh', 'Karnataka', 'Madhya Pradesh', 'Karnataka']\n",
        "}\n",
        "\n",
        "kumbhmela = pd.DataFrame(data)\n",
        "\n",
        "print(\"DataFrame Info:\")\n",
        "kumbhmela.info()\n",
        "\n",
        "print(\"\\nSize of DataFrame:\", kumbhmela.shape)"
      ],
      "metadata": {
        "colab": {
          "base_uri": "https://localhost:8080/"
        },
        "id": "2G468DD5mfyk",
        "outputId": "5d554a13-6298-4978-9f7b-3bed9b1ed17d"
      },
      "execution_count": 2,
      "outputs": [
        {
          "output_type": "stream",
          "name": "stdout",
          "text": [
            "DataFrame Info:\n",
            "<class 'pandas.core.frame.DataFrame'>\n",
            "RangeIndex: 20 entries, 0 to 19\n",
            "Data columns (total 7 columns):\n",
            " #   Column         Non-Null Count  Dtype  \n",
            "---  ------         --------------  -----  \n",
            " 0   Visitor_ID     20 non-null     object \n",
            " 1   Name           18 non-null     object \n",
            " 2   Age            18 non-null     float64\n",
            " 3   Ticket_Price   17 non-null     float64\n",
            " 4   Check_In_Time  17 non-null     object \n",
            " 5   City           20 non-null     object \n",
            " 6   State          20 non-null     object \n",
            "dtypes: float64(2), object(5)\n",
            "memory usage: 1.2+ KB\n",
            "\n",
            "Size of DataFrame: (20, 7)\n"
          ]
        }
      ]
    },
    {
      "cell_type": "code",
      "source": [
        "import pandas as pd\n",
        "import numpy as np\n",
        "\n",
        "df = pd.DataFrame(data)\n",
        "\n",
        "print(\"Top 5 Rows:\")\n",
        "print(df.head())\n",
        "\n",
        "print(\"\\nLast 2 Rows:\")\n",
        "print(df.tail(2))"
      ],
      "metadata": {
        "colab": {
          "base_uri": "https://localhost:8080/"
        },
        "id": "BNZOKbo1nFSh",
        "outputId": "1d2c29fd-037a-45ce-c295-5fb36403f020"
      },
      "execution_count": 3,
      "outputs": [
        {
          "output_type": "stream",
          "name": "stdout",
          "text": [
            "Top 5 Rows:\n",
            "  Visitor_ID                        Name   Age  Ticket_Price Check_In_Time  \\\n",
            "0      V1000       ABHISHEK SANDEEP ZADE  25.0         500.0      10:00 AM   \n",
            "1      V1001        ARNAV AJAY DESHPANDE  23.0         750.0      10:30 AM   \n",
            "2      V1002  ASHWINI LALCHAND MUNDAWARE  22.0         500.0      11:00 AM   \n",
            "3      V1003      GAYATRI SURESH GAIKWAD   NaN        1000.0      11:30 AM   \n",
            "4      V1004   HARSHADA GANESH CHAUDHARI  21.0           NaN           NaN   \n",
            "\n",
            "         City        State  \n",
            "0       Delhi        Delhi  \n",
            "1  Aurangabad  Maharashtra  \n",
            "2      Mumbai  Maharashtra  \n",
            "3      Mumbai  Maharashtra  \n",
            "4   New Delhi        Delhi  \n",
            "\n",
            "Last 2 Rows:\n",
            "   Visitor_ID                    Name   Age  Ticket_Price Check_In_Time  \\\n",
            "18      V1018      ROHIT DILIP BILWAL  19.0         750.0      04:00 PM   \n",
            "19      V1019  RITESH SHIVAJI BAIRAGI  19.0           NaN           NaN   \n",
            "\n",
            "         City           State  \n",
            "18     Ujjain  Madhya Pradesh  \n",
            "19  Bangalore       Karnataka  \n"
          ]
        }
      ]
    },
    {
      "cell_type": "code",
      "source": [
        "import pandas as pd\n",
        "import numpy as np\n",
        "\n",
        "df = pd.DataFrame(data)\n",
        "\n",
        "print(\"Column Data Types:\")\n",
        "print(df.dtypes)"
      ],
      "metadata": {
        "colab": {
          "base_uri": "https://localhost:8080/"
        },
        "id": "vVds0Oy5oro0",
        "outputId": "06b48699-78bd-47a2-cfa9-2cf388c909c6"
      },
      "execution_count": 4,
      "outputs": [
        {
          "output_type": "stream",
          "name": "stdout",
          "text": [
            "Column Data Types:\n",
            "Visitor_ID        object\n",
            "Name              object\n",
            "Age              float64\n",
            "Ticket_Price     float64\n",
            "Check_In_Time     object\n",
            "City              object\n",
            "State             object\n",
            "dtype: object\n"
          ]
        }
      ]
    },
    {
      "cell_type": "code",
      "source": [
        "import pandas as pd\n",
        "import numpy as np\n",
        "\n",
        "df = pd.DataFrame(data)\n",
        "\n",
        "print(\"Statistical Summary:\")\n",
        "print(df.describe())"
      ],
      "metadata": {
        "colab": {
          "base_uri": "https://localhost:8080/"
        },
        "id": "n_E-jfIRpkKk",
        "outputId": "ec644ad3-2ae6-48c8-b85f-14da7db139c2"
      },
      "execution_count": 5,
      "outputs": [
        {
          "output_type": "stream",
          "name": "stdout",
          "text": [
            "Statistical Summary:\n",
            "             Age  Ticket_Price\n",
            "count  18.000000     17.000000\n",
            "mean   24.388889    711.764706\n",
            "std     3.292396    170.045409\n",
            "min    19.000000    500.000000\n",
            "25%    22.250000    500.000000\n",
            "50%    24.500000    750.000000\n",
            "75%    25.750000    800.000000\n",
            "max    31.000000   1000.000000\n"
          ]
        }
      ]
    },
    {
      "cell_type": "code",
      "source": [
        "import pandas as pd\n",
        "import numpy as np\n",
        "\n",
        "df = pd.DataFrame(data)\n",
        "\n",
        "df_cleaned = df.drop_duplicates()\n",
        "\n",
        "print(\"Data after removing duplicates:\")\n",
        "print(df_cleaned)"
      ],
      "metadata": {
        "colab": {
          "base_uri": "https://localhost:8080/"
        },
        "id": "PYFJXIkrs1WV",
        "outputId": "40426490-b5ef-4168-bbf3-2e1736d6aacb"
      },
      "execution_count": 6,
      "outputs": [
        {
          "output_type": "stream",
          "name": "stdout",
          "text": [
            "Data after removing duplicates:\n",
            "   Visitor_ID                        Name   Age  Ticket_Price Check_In_Time  \\\n",
            "0       V1000       ABHISHEK SANDEEP ZADE  25.0         500.0      10:00 AM   \n",
            "1       V1001        ARNAV AJAY DESHPANDE  23.0         750.0      10:30 AM   \n",
            "2       V1002  ASHWINI LALCHAND MUNDAWARE  22.0         500.0      11:00 AM   \n",
            "3       V1003      GAYATRI SURESH GAIKWAD   NaN        1000.0      11:30 AM   \n",
            "4       V1004   HARSHADA GANESH CHAUDHARI  21.0           NaN           NaN   \n",
            "5       V1005    VAIBHAVI HARISHWAR PATIL  25.0         500.0      10:00 AM   \n",
            "6       V1006                         NaN  24.0         700.0      12:00 PM   \n",
            "7       V1007     VISHAKHA PUNDLIK JADHAV  24.0         650.0      12:30 PM   \n",
            "8       V1008         YASH BHARAT SOLUNKE  28.0         750.0      01:00 PM   \n",
            "9       V1009       VIVEK SANTOSH KHANDWE   NaN        1000.0      01:30 PM   \n",
            "10      V1010     VISHAKHA PUNDLIK JADHAV  22.0         500.0      11:00 AM   \n",
            "11      V1011          Tanushree Chhanwal  23.0         800.0      02:00 PM   \n",
            "12      V1012              Shruti Jaiswal  25.0           NaN           NaN   \n",
            "13      V1013            Shriyash Sulakhe  27.0         750.0      02:30 PM   \n",
            "14      V1014         YASH BHARAT SOLUNKE  25.0         500.0      10:00 AM   \n",
            "15      V1015                         NaN  30.0         700.0      12:00 PM   \n",
            "16      V1016        ARNAV AJAY DESHPANDE  31.0         900.0      03:00 PM   \n",
            "17      V1017        RUTUJA SANTOSH THOTE  26.0         850.0      03:30 PM   \n",
            "18      V1018          ROHIT DILIP BILWAL  19.0         750.0      04:00 PM   \n",
            "19      V1019      RITESH SHIVAJI BAIRAGI  19.0           NaN           NaN   \n",
            "\n",
            "          City           State  \n",
            "0        Delhi           Delhi  \n",
            "1   Aurangabad     Maharashtra  \n",
            "2       Mumbai     Maharashtra  \n",
            "3       Mumbai     Maharashtra  \n",
            "4    New Delhi           Delhi  \n",
            "5    New Delhi           Delhi  \n",
            "6      Chennai      Tamil Nadu  \n",
            "7      Chennai      Tamil Nadu  \n",
            "8      Chennai      Tamil Nadu  \n",
            "9    Bangalore       Karnataka  \n",
            "10       Delhi           Delhi  \n",
            "11        Pune     Maharashtra  \n",
            "12   New Delhi           Delhi  \n",
            "13      Mumbai     Maharashtra  \n",
            "14   New Delhi           Delhi  \n",
            "15   New Delhi           Delhi  \n",
            "16      Indore  Madhya Pradesh  \n",
            "17   Bangalore       Karnataka  \n",
            "18      Ujjain  Madhya Pradesh  \n",
            "19   Bangalore       Karnataka  \n"
          ]
        }
      ]
    },
    {
      "cell_type": "code",
      "source": [
        "import pandas as pd\n",
        "import matplotlib.pyplot as plt\n",
        "\n",
        "data = {\n",
        "    'Singer': ['Arijit Singh', 'Shreya Ghoshal', 'Sonu Nigam', 'Lata Mangeshkar', 'Kishore Kumar'],\n",
        "    'Years_Active': [15, 20, 30, 70, 40],\n",
        "    'Number_of_Songs': [500, 700, 600, 1000, 800],\n",
        "    'Awards_Won': [50, 60, 40, 100, 80]\n",
        "}\n",
        "\n",
        "df = pd.DataFrame(data)\n",
        "\n",
        "plt.figure(figsize=(8,5))\n",
        "plt.bar(df['Singer'], df['Number_of_Songs'], color='skyblue')\n",
        "plt.title('Number of Songs by Each Singer')\n",
        "plt.xlabel('Singer')\n",
        "plt.ylabel('Number of Songs')\n",
        "\n",
        "plt.xticks(rotation=45)\n",
        "\n",
        "plt.grid(axis=\"y\")\n",
        "plt.show()\n"
      ],
      "metadata": {
        "colab": {
          "base_uri": "https://localhost:8080/",
          "height": 568
        },
        "id": "PjtqXClts-uq",
        "outputId": "cb29c3eb-5ec1-4211-f6a2-9be3df18c639"
      },
      "execution_count": 7,
      "outputs": [
        {
          "output_type": "display_data",
          "data": {
            "text/plain": [
              "<Figure size 800x500 with 1 Axes>"
            ],
            "image/png": "[encoded data removed]"
          },
          "metadata": {}
        }
      ]
    }
  ]
}