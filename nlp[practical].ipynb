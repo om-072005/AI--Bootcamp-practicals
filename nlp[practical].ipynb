{
  "nbformat": 4,
  "nbformat_minor": 0,
  "metadata": {
    "colab": {
      "provenance": []
    },
    "kernelspec": {
      "name": "python3",
      "display_name": "Python 3"
    },
    "language_info": {
      "name": "python"
    }
  },
  "cells": [
    {
      "cell_type": "code",
      "execution_count": 1,
      "metadata": {
        "colab": {
          "base_uri": "https://localhost:8080/"
        },
        "id": "fzKzmes-l1g_",
        "outputId": "a42960da-e222-4cf7-f808-132427716f86"
      },
      "outputs": [
        {
          "output_type": "stream",
          "name": "stdout",
          "text": [
            "Requirement already satisfied: nltk in /usr/local/lib/python3.11/dist-packages (3.9.1)\n",
            "Requirement already satisfied: click in /usr/local/lib/python3.11/dist-packages (from nltk) (8.1.8)\n",
            "Requirement already satisfied: joblib in /usr/local/lib/python3.11/dist-packages (from nltk) (1.4.2)\n",
            "Requirement already satisfied: regex>=2021.8.3 in /usr/local/lib/python3.11/dist-packages (from nltk) (2024.11.6)\n",
            "Requirement already satisfied: tqdm in /usr/local/lib/python3.11/dist-packages (from nltk) (4.67.1)\n"
          ]
        }
      ],
      "source": [
        "!pip install nltk"
      ]
    },
    {
      "cell_type": "code",
      "source": [
        "\n",
        "import nltk\n",
        "from nltk.tokenize import sent_tokenize, word_tokenize\n",
        "from nltk.corpus import stopwords\n",
        "from nltk.stem import PorterStemmer\n",
        "from nltk.stem import WordNetLemmatizer\n",
        "from nltk import pos_tag\n",
        "\n",
        "# Ensure you have the required NLTK data packages\n",
        "nltk.download('punkt')\n",
        "nltk.download('stopwords')\n",
        "nltk.download('wordnet')\n",
        "nltk.download('averaged_perceptron_tagger')\n",
        "nltk.download('punkt_tab')\n",
        "nltk.download('averaged_perceptron_tagger_eng')"
      ],
      "metadata": {
        "colab": {
          "base_uri": "https://localhost:8080/"
        },
        "id": "IGC6SpG9mPgT",
        "outputId": "ad2b411c-962d-4787-a1a7-46f0788d5c4f"
      },
      "execution_count": 3,
      "outputs": [
        {
          "output_type": "stream",
          "name": "stderr",
          "text": [
            "[nltk_data] Downloading package punkt to /root/nltk_data...\n",
            "[nltk_data]   Package punkt is already up-to-date!\n",
            "[nltk_data] Downloading package stopwords to /root/nltk_data...\n",
            "[nltk_data]   Package stopwords is already up-to-date!\n",
            "[nltk_data] Downloading package wordnet to /root/nltk_data...\n",
            "[nltk_data]   Package wordnet is already up-to-date!\n",
            "[nltk_data] Downloading package averaged_perceptron_tagger to\n",
            "[nltk_data]     /root/nltk_data...\n",
            "[nltk_data]   Package averaged_perceptron_tagger is already up-to-\n",
            "[nltk_data]       date!\n",
            "[nltk_data] Downloading package punkt_tab to /root/nltk_data...\n",
            "[nltk_data]   Package punkt_tab is already up-to-date!\n",
            "[nltk_data] Downloading package averaged_perceptron_tagger_eng to\n",
            "[nltk_data]     /root/nltk_data...\n",
            "[nltk_data]   Package averaged_perceptron_tagger_eng is already up-to-\n",
            "[nltk_data]       date!\n"
          ]
        },
        {
          "output_type": "execute_result",
          "data": {
            "text/plain": [
              "True"
            ]
          },
          "metadata": {},
          "execution_count": 3
        }
      ]
    },
    {
      "cell_type": "code",
      "source": [
        "text=\"Photography is an art that captures the beauty of moments in time.', Whether it's a landscape, portrait, or an event, a photograph can tell a powerful story., 'Great photographers use their cameras as tools to convey emotions, memories, and scenes from everyday life.', 'The composition, lighting, and timing of a shot are key elements in creating stunning photos.', 'Photography also plays a significant role in digital media, social media, and marketing.', 'The evolution of camera technology, from film cameras to digital cameras, has revolutionized how we capture images.', 'Every photograph is a unique creation, reflecting the photographer's perspective and artistic style.\"\n",
        "print(text)"
      ],
      "metadata": {
        "id": "dgN5ZR2DnBFV",
        "outputId": "74bad32b-c6dc-4cc5-d467-742e090eb93b",
        "colab": {
          "base_uri": "https://localhost:8080/"
        }
      },
      "execution_count": 5,
      "outputs": [
        {
          "output_type": "stream",
          "name": "stdout",
          "text": [
            "Photography is an art that captures the beauty of moments in time.', Whether it's a landscape, portrait, or an event, a photograph can tell a powerful story., 'Great photographers use their cameras as tools to convey emotions, memories, and scenes from everyday life.', 'The composition, lighting, and timing of a shot are key elements in creating stunning photos.', 'Photography also plays a significant role in digital media, social media, and marketing.', 'The evolution of camera technology, from film cameras to digital cameras, has revolutionized how we capture images.', 'Every photograph is a unique creation, reflecting the photographer's perspective and artistic style.\n"
          ]
        }
      ]
    },
    {
      "cell_type": "code",
      "source": [
        "sentences = sent_tokenize(text)\n",
        "words = word_tokenize(text)\n",
        "\n",
        "print(\"Sentences:\", sentences)\n",
        "print(\"Words:\", words)"
      ],
      "metadata": {
        "id": "JMki9S5DoHTv",
        "outputId": "a83e9c0c-d027-487d-e289-8603a6de5549",
        "colab": {
          "base_uri": "https://localhost:8080/"
        }
      },
      "execution_count": 6,
      "outputs": [
        {
          "output_type": "stream",
          "name": "stdout",
          "text": [
            "Sentences: ['Photography is an art that captures the beauty of moments in time.', \"', Whether it's a landscape, portrait, or an event, a photograph can tell a powerful story., 'Great photographers use their cameras as tools to convey emotions, memories, and scenes from everyday life.\", \"', 'The composition, lighting, and timing of a shot are key elements in creating stunning photos.\", \"', 'Photography also plays a significant role in digital media, social media, and marketing.\", \"', 'The evolution of camera technology, from film cameras to digital cameras, has revolutionized how we capture images.\", \"', 'Every photograph is a unique creation, reflecting the photographer's perspective and artistic style.\"]\n",
            "Words: ['Photography', 'is', 'an', 'art', 'that', 'captures', 'the', 'beauty', 'of', 'moments', 'in', 'time', '.', \"'\", ',', 'Whether', 'it', \"'s\", 'a', 'landscape', ',', 'portrait', ',', 'or', 'an', 'event', ',', 'a', 'photograph', 'can', 'tell', 'a', 'powerful', 'story.', ',', \"'Great\", 'photographers', 'use', 'their', 'cameras', 'as', 'tools', 'to', 'convey', 'emotions', ',', 'memories', ',', 'and', 'scenes', 'from', 'everyday', 'life', '.', \"'\", ',', \"'The\", 'composition', ',', 'lighting', ',', 'and', 'timing', 'of', 'a', 'shot', 'are', 'key', 'elements', 'in', 'creating', 'stunning', 'photos', '.', \"'\", ',', \"'Photography\", 'also', 'plays', 'a', 'significant', 'role', 'in', 'digital', 'media', ',', 'social', 'media', ',', 'and', 'marketing', '.', \"'\", ',', \"'The\", 'evolution', 'of', 'camera', 'technology', ',', 'from', 'film', 'cameras', 'to', 'digital', 'cameras', ',', 'has', 'revolutionized', 'how', 'we', 'capture', 'images', '.', \"'\", ',', \"'Every\", 'photograph', 'is', 'a', 'unique', 'creation', ',', 'reflecting', 'the', 'photographer', \"'s\", 'perspective', 'and', 'artistic', 'style', '.']\n"
          ]
        }
      ]
    },
    {
      "cell_type": "code",
      "source": [
        "stop_words = set(stopwords.words('english'))\n",
        "filtered_words = [word for word in words if word.isalpha() and word not in stop_words]\n",
        "print(\"Filtered Words:\", filtered_words)"
      ],
      "metadata": {
        "id": "3wSY7k8qoSxc",
        "outputId": "6b0b8ddc-05dc-43b0-c797-6c6b6874f0b1",
        "colab": {
          "base_uri": "https://localhost:8080/"
        }
      },
      "execution_count": 7,
      "outputs": [
        {
          "output_type": "stream",
          "name": "stdout",
          "text": [
            "Filtered Words: ['Photography', 'art', 'captures', 'beauty', 'moments', 'time', 'Whether', 'landscape', 'portrait', 'event', 'photograph', 'tell', 'powerful', 'photographers', 'use', 'cameras', 'tools', 'convey', 'emotions', 'memories', 'scenes', 'everyday', 'life', 'composition', 'lighting', 'timing', 'shot', 'key', 'elements', 'creating', 'stunning', 'photos', 'also', 'plays', 'significant', 'role', 'digital', 'media', 'social', 'media', 'marketing', 'evolution', 'camera', 'technology', 'film', 'cameras', 'digital', 'cameras', 'revolutionized', 'capture', 'images', 'photograph', 'unique', 'creation', 'reflecting', 'photographer', 'perspective', 'artistic', 'style']\n"
          ]
        }
      ]
    },
    {
      "cell_type": "code",
      "source": [
        "stemmer = PorterStemmer()\n",
        "stemmed_words = [stemmer.stem(word) for word in filtered_words]\n",
        "\n",
        "print(\"Stemmed Words:\", stemmed_words)"
      ],
      "metadata": {
        "id": "ozCiWu4eocLe",
        "outputId": "3b637ba7-a96d-495b-91c3-6f0125fd1999",
        "colab": {
          "base_uri": "https://localhost:8080/"
        }
      },
      "execution_count": 8,
      "outputs": [
        {
          "output_type": "stream",
          "name": "stdout",
          "text": [
            "Stemmed Words: ['photographi', 'art', 'captur', 'beauti', 'moment', 'time', 'whether', 'landscap', 'portrait', 'event', 'photograph', 'tell', 'power', 'photograph', 'use', 'camera', 'tool', 'convey', 'emot', 'memori', 'scene', 'everyday', 'life', 'composit', 'light', 'time', 'shot', 'key', 'element', 'creat', 'stun', 'photo', 'also', 'play', 'signific', 'role', 'digit', 'media', 'social', 'media', 'market', 'evolut', 'camera', 'technolog', 'film', 'camera', 'digit', 'camera', 'revolution', 'captur', 'imag', 'photograph', 'uniqu', 'creation', 'reflect', 'photograph', 'perspect', 'artist', 'style']\n"
          ]
        }
      ]
    },
    {
      "cell_type": "code",
      "source": [
        "lemmatizer = WordNetLemmatizer()\n",
        "lemmatized_words = [lemmatizer.lemmatize(word) for word in filtered_words]\n",
        "\n",
        "print(\"Lemmatized Words:\", lemmatized_words)"
      ],
      "metadata": {
        "id": "pyfjlE-goh5b",
        "outputId": "aab02d47-71da-473d-da78-598c92c712b9",
        "colab": {
          "base_uri": "https://localhost:8080/"
        }
      },
      "execution_count": 9,
      "outputs": [
        {
          "output_type": "stream",
          "name": "stdout",
          "text": [
            "Lemmatized Words: ['Photography', 'art', 'capture', 'beauty', 'moment', 'time', 'Whether', 'landscape', 'portrait', 'event', 'photograph', 'tell', 'powerful', 'photographer', 'use', 'camera', 'tool', 'convey', 'emotion', 'memory', 'scene', 'everyday', 'life', 'composition', 'lighting', 'timing', 'shot', 'key', 'element', 'creating', 'stunning', 'photo', 'also', 'play', 'significant', 'role', 'digital', 'medium', 'social', 'medium', 'marketing', 'evolution', 'camera', 'technology', 'film', 'camera', 'digital', 'camera', 'revolutionized', 'capture', 'image', 'photograph', 'unique', 'creation', 'reflecting', 'photographer', 'perspective', 'artistic', 'style']\n"
          ]
        }
      ]
    }
  ]
}