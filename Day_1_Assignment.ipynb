{
  "metadata": {
    "kernelspec": {
      "name": "python",
      "display_name": "Python (Pyodide)",
      "language": "python"
    },
    "language_info": {
      "codemirror_mode": {
        "name": "python",
        "version": 3
      },
      "file_extension": ".py",
      "mimetype": "text/x-python",
      "name": "python",
      "nbconvert_exporter": "python",
      "pygments_lexer": "ipython3",
      "version": "3.8"
    }
  },
  "nbformat_minor": 5,
  "nbformat": 4,
  "cells": [
    {
      "id": "a63f3681-88e0-4aca-ba0f-777b4ff8b29d",
      "cell_type": "code",
      "source": "#Create a list of random numbers print all the even numbers in the list\nimport numpy as np\nimport random\n\nrandom_numbers = [random.randint(1, 100) for _ in range(20)]\nnp_array = np.array(random_numbers)\n\neven_numbers = np_array[np_array % 2 == 0]\n\nprint(\"Random Numbers:\", random_numbers)\nprint(\"Even Numbers:\", even_numbers.tolist())",
      "metadata": {
        "trusted": true
      },
      "outputs": [
        {
          "name": "stdout",
          "output_type": "stream",
          "text": "Random Numbers: [7, 55, 10, 29, 67, 33, 10, 46, 13, 35, 3, 61, 38, 87, 87, 26, 91, 99, 4, 67]\nEven Numbers: [10, 10, 46, 38, 26, 4]\n"
        }
      ],
      "execution_count": 8
    },
    {
      "id": "3ec63a39-416d-4144-a38b-f3dc15b6c547",
      "cell_type": "code",
      "source": "#create a string and print it in reverse order and also reverse the words also\ntext = \"International centre of exellence in enginerring and management\"\n\nreversed_string = text[::-1]\nprint(\"Reversed String:\", reversed_string)\n\nreversed_words = ' '.join(text.split()[::-1])\nprint(\"Reversed Words:\", reversed_words)",
      "metadata": {
        "trusted": true
      },
      "outputs": [
        {
          "name": "stdout",
          "output_type": "stream",
          "text": "Reversed String: tnemeganam dna gnirrenigne ni ecnellexe fo ertnec lanoitanretnI\nReversed Words: management and enginerring in exellence of centre International\n"
        }
      ],
      "execution_count": 7
    }
  ]
}